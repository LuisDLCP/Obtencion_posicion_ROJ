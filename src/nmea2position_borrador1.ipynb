{
 "cells": [
  {
   "cell_type": "code",
   "execution_count": 2,
   "metadata": {},
   "outputs": [],
   "source": [
    "import pandas as pd\n",
    "import nmea2position as nmea\n",
    "\n",
    "data = nmea.read_nmea(\"ljic253u00.201\")"
   ]
  },
  {
   "cell_type": "code",
   "execution_count": 8,
   "metadata": {},
   "outputs": [],
   "source": [
    "# Select gga data\n",
    "data_gga = data.loc[\"$GPGGA\"] \n",
    "data_gga2 = data_gga[[1,2,3,4,5,9,10]] # Choose only the valid information\n",
    "data_gga2.columns = [\"UTC_time\", \"LAT\", \"LAT(unit)\", \"LON\", \"LON(unit)\", \"HEIGHT\", \"HEIGHT(unit)\"]\n",
    "# Select zda data\n",
    "data_zda = data.loc[\"$GPZDA\"] \n",
    "data_zda2 = data_zda[[1,2,3,4]]\n",
    "data_zda2.columns = [\"UTC_time\",\"day\",\"month\",\"year\"]"
   ]
  },
  {
   "cell_type": "code",
   "execution_count": 9,
   "metadata": {
    "scrolled": false
   },
   "outputs": [
    {
     "data": {
      "text/html": [
       "<div>\n",
       "<style scoped>\n",
       "    .dataframe tbody tr th:only-of-type {\n",
       "        vertical-align: middle;\n",
       "    }\n",
       "\n",
       "    .dataframe tbody tr th {\n",
       "        vertical-align: top;\n",
       "    }\n",
       "\n",
       "    .dataframe thead th {\n",
       "        text-align: right;\n",
       "    }\n",
       "</style>\n",
       "<table border=\"1\" class=\"dataframe\">\n",
       "  <thead>\n",
       "    <tr style=\"text-align: right;\">\n",
       "      <th></th>\n",
       "      <th>UTC_time</th>\n",
       "      <th>LAT</th>\n",
       "      <th>LAT(unit)</th>\n",
       "      <th>LON</th>\n",
       "      <th>LON(unit)</th>\n",
       "      <th>HEIGHT</th>\n",
       "      <th>HEIGHT(unit)</th>\n",
       "    </tr>\n",
       "    <tr>\n",
       "      <th>0</th>\n",
       "      <th></th>\n",
       "      <th></th>\n",
       "      <th></th>\n",
       "      <th></th>\n",
       "      <th></th>\n",
       "      <th></th>\n",
       "      <th></th>\n",
       "    </tr>\n",
       "  </thead>\n",
       "  <tbody>\n",
       "    <tr>\n",
       "      <th>$GPGGA</th>\n",
       "      <td>195942.00</td>\n",
       "      <td>1157.170725</td>\n",
       "      <td>S</td>\n",
       "      <td>7652.57085</td>\n",
       "      <td>W</td>\n",
       "      <td>520.42</td>\n",
       "      <td>M</td>\n",
       "    </tr>\n",
       "    <tr>\n",
       "      <th>$GPGGA</th>\n",
       "      <td>195942.17</td>\n",
       "      <td>1157.170725</td>\n",
       "      <td>S</td>\n",
       "      <td>7652.57085</td>\n",
       "      <td>W</td>\n",
       "      <td>520.42</td>\n",
       "      <td>M</td>\n",
       "    </tr>\n",
       "  </tbody>\n",
       "</table>\n",
       "</div>"
      ],
      "text/plain": [
       "         UTC_time          LAT LAT(unit)         LON LON(unit)  HEIGHT  \\\n",
       "0                                                                        \n",
       "$GPGGA  195942.00  1157.170725         S  7652.57085         W  520.42   \n",
       "$GPGGA  195942.17  1157.170725         S  7652.57085         W  520.42   \n",
       "\n",
       "       HEIGHT(unit)  \n",
       "0                    \n",
       "$GPGGA            M  \n",
       "$GPGGA            M  "
      ]
     },
     "execution_count": 9,
     "metadata": {},
     "output_type": "execute_result"
    }
   ],
   "source": [
    "data_gga2.head(2) # Location + time "
   ]
  },
  {
   "cell_type": "code",
   "execution_count": 16,
   "metadata": {
    "scrolled": true
   },
   "outputs": [
    {
     "data": {
      "text/html": [
       "<div>\n",
       "<style scoped>\n",
       "    .dataframe tbody tr th:only-of-type {\n",
       "        vertical-align: middle;\n",
       "    }\n",
       "\n",
       "    .dataframe tbody tr th {\n",
       "        vertical-align: top;\n",
       "    }\n",
       "\n",
       "    .dataframe thead th {\n",
       "        text-align: right;\n",
       "    }\n",
       "</style>\n",
       "<table border=\"1\" class=\"dataframe\">\n",
       "  <thead>\n",
       "    <tr style=\"text-align: right;\">\n",
       "      <th></th>\n",
       "      <th>UTC_time</th>\n",
       "      <th>LAT</th>\n",
       "      <th>LAT(unit)</th>\n",
       "      <th>LON</th>\n",
       "      <th>LON(unit)</th>\n",
       "      <th>HEIGHT</th>\n",
       "      <th>HEIGHT(unit)</th>\n",
       "    </tr>\n",
       "    <tr>\n",
       "      <th>0</th>\n",
       "      <th></th>\n",
       "      <th></th>\n",
       "      <th></th>\n",
       "      <th></th>\n",
       "      <th></th>\n",
       "      <th></th>\n",
       "      <th></th>\n",
       "    </tr>\n",
       "  </thead>\n",
       "  <tbody>\n",
       "    <tr>\n",
       "      <th>$GPGGA</th>\n",
       "      <td>195942.00</td>\n",
       "      <td>1157.170725</td>\n",
       "      <td>S</td>\n",
       "      <td>7652.57085</td>\n",
       "      <td>W</td>\n",
       "      <td>520.42</td>\n",
       "      <td>M</td>\n",
       "    </tr>\n",
       "    <tr>\n",
       "      <th>$GPGGA</th>\n",
       "      <td>195942.17</td>\n",
       "      <td>1157.170725</td>\n",
       "      <td>S</td>\n",
       "      <td>7652.57085</td>\n",
       "      <td>W</td>\n",
       "      <td>520.42</td>\n",
       "      <td>M</td>\n",
       "    </tr>\n",
       "  </tbody>\n",
       "</table>\n",
       "</div>"
      ],
      "text/plain": [
       "         UTC_time          LAT LAT(unit)         LON LON(unit)  HEIGHT  \\\n",
       "0                                                                        \n",
       "$GPGGA  195942.00  1157.170725         S  7652.57085         W  520.42   \n",
       "$GPGGA  195942.17  1157.170725         S  7652.57085         W  520.42   \n",
       "\n",
       "       HEIGHT(unit)  \n",
       "0                    \n",
       "$GPGGA            M  \n",
       "$GPGGA            M  "
      ]
     },
     "execution_count": 16,
     "metadata": {},
     "output_type": "execute_result"
    }
   ],
   "source": [
    "df = data_gga2.copy()\n",
    "df.head(2)"
   ]
  },
  {
   "cell_type": "code",
   "execution_count": 21,
   "metadata": {},
   "outputs": [],
   "source": [
    "df.reset_index(drop=True, inplace=True)"
   ]
  },
  {
   "cell_type": "code",
   "execution_count": 22,
   "metadata": {},
   "outputs": [
    {
     "data": {
      "text/html": [
       "<div>\n",
       "<style scoped>\n",
       "    .dataframe tbody tr th:only-of-type {\n",
       "        vertical-align: middle;\n",
       "    }\n",
       "\n",
       "    .dataframe tbody tr th {\n",
       "        vertical-align: top;\n",
       "    }\n",
       "\n",
       "    .dataframe thead th {\n",
       "        text-align: right;\n",
       "    }\n",
       "</style>\n",
       "<table border=\"1\" class=\"dataframe\">\n",
       "  <thead>\n",
       "    <tr style=\"text-align: right;\">\n",
       "      <th></th>\n",
       "      <th>UTC_time</th>\n",
       "      <th>LAT</th>\n",
       "      <th>LAT(unit)</th>\n",
       "      <th>LON</th>\n",
       "      <th>LON(unit)</th>\n",
       "      <th>HEIGHT</th>\n",
       "      <th>HEIGHT(unit)</th>\n",
       "    </tr>\n",
       "  </thead>\n",
       "  <tbody>\n",
       "    <tr>\n",
       "      <th>0</th>\n",
       "      <td>195942.00</td>\n",
       "      <td>1157.170725</td>\n",
       "      <td>S</td>\n",
       "      <td>7652.57085</td>\n",
       "      <td>W</td>\n",
       "      <td>520.42</td>\n",
       "      <td>M</td>\n",
       "    </tr>\n",
       "    <tr>\n",
       "      <th>1</th>\n",
       "      <td>195942.17</td>\n",
       "      <td>1157.170725</td>\n",
       "      <td>S</td>\n",
       "      <td>7652.57085</td>\n",
       "      <td>W</td>\n",
       "      <td>520.42</td>\n",
       "      <td>M</td>\n",
       "    </tr>\n",
       "  </tbody>\n",
       "</table>\n",
       "</div>"
      ],
      "text/plain": [
       "    UTC_time          LAT LAT(unit)         LON LON(unit)  HEIGHT HEIGHT(unit)\n",
       "0  195942.00  1157.170725         S  7652.57085         W  520.42            M\n",
       "1  195942.17  1157.170725         S  7652.57085         W  520.42            M"
      ]
     },
     "execution_count": 22,
     "metadata": {},
     "output_type": "execute_result"
    }
   ],
   "source": [
    "df.head(2)"
   ]
  },
  {
   "cell_type": "code",
   "execution_count": 50,
   "metadata": {},
   "outputs": [],
   "source": [
    "def convert_decimalDegree(value):\n",
    "    integer = int(value/100)\n",
    "    decimal = (value - integer*100)/60\n",
    "    \n",
    "    final_value = integer+decimal\n",
    "    \n",
    "    return final_value"
   ]
  },
  {
   "cell_type": "code",
   "execution_count": 42,
   "metadata": {
    "collapsed": true
   },
   "outputs": [
    {
     "data": {
      "text/plain": [
       "0     11.952845\n",
       "1     11.952845\n",
       "2     11.952845\n",
       "3     11.952845\n",
       "4     11.952846\n",
       "5     11.952846\n",
       "6     11.952846\n",
       "7     11.952846\n",
       "8     11.952846\n",
       "9     11.952846\n",
       "10    11.952846\n",
       "11    11.952846\n",
       "12    11.952846\n",
       "13    11.952846\n",
       "14    11.952846\n",
       "15    11.952846\n",
       "Name: LAT, dtype: float64"
      ]
     },
     "execution_count": 42,
     "metadata": {},
     "output_type": "execute_result"
    }
   ],
   "source": [
    "df[\"LAT\"].apply(change_lat).round(6)"
   ]
  },
  {
   "cell_type": "code",
   "execution_count": 51,
   "metadata": {},
   "outputs": [],
   "source": [
    "def coordinate_sign(coord):\n",
    "    if coord == \"S\" or coord == \"W\":\n",
    "        return -1\n",
    "    elif coord == \"N\" or coord == \"E\":\n",
    "        return +1\n",
    "    else:\n",
    "        return \"Error\""
   ]
  },
  {
   "cell_type": "code",
   "execution_count": 47,
   "metadata": {
    "collapsed": true
   },
   "outputs": [
    {
     "data": {
      "text/plain": [
       "0    -1\n",
       "1    -1\n",
       "2    -1\n",
       "3    -1\n",
       "4    -1\n",
       "5    -1\n",
       "6    -1\n",
       "7    -1\n",
       "8    -1\n",
       "9    -1\n",
       "10   -1\n",
       "11   -1\n",
       "12   -1\n",
       "13   -1\n",
       "14   -1\n",
       "15   -1\n",
       "Name: LAT(unit), dtype: int64"
      ]
     },
     "execution_count": 47,
     "metadata": {},
     "output_type": "execute_result"
    }
   ],
   "source": [
    "df[\"LAT(unit)\"].apply(lat_sign)"
   ]
  },
  {
   "cell_type": "code",
   "execution_count": 55,
   "metadata": {},
   "outputs": [],
   "source": [
    "df[\"Latitud\"] = df[\"LAT\"].apply(convert_decimalDegree).round(6) * df[\"LAT(unit)\"].apply(coordinate_sign)"
   ]
  },
  {
   "cell_type": "code",
   "execution_count": 57,
   "metadata": {},
   "outputs": [],
   "source": [
    "df[\"Longitud\"] = df[\"LON\"].apply(convert_decimalDegree).round(5) * df[\"LON(unit)\"].apply(coordinate_sign)"
   ]
  },
  {
   "cell_type": "code",
   "execution_count": 58,
   "metadata": {},
   "outputs": [
    {
     "data": {
      "text/html": [
       "<div>\n",
       "<style scoped>\n",
       "    .dataframe tbody tr th:only-of-type {\n",
       "        vertical-align: middle;\n",
       "    }\n",
       "\n",
       "    .dataframe tbody tr th {\n",
       "        vertical-align: top;\n",
       "    }\n",
       "\n",
       "    .dataframe thead th {\n",
       "        text-align: right;\n",
       "    }\n",
       "</style>\n",
       "<table border=\"1\" class=\"dataframe\">\n",
       "  <thead>\n",
       "    <tr style=\"text-align: right;\">\n",
       "      <th></th>\n",
       "      <th>UTC_time</th>\n",
       "      <th>LAT</th>\n",
       "      <th>LAT(unit)</th>\n",
       "      <th>LON</th>\n",
       "      <th>LON(unit)</th>\n",
       "      <th>HEIGHT</th>\n",
       "      <th>HEIGHT(unit)</th>\n",
       "      <th>Latitud</th>\n",
       "      <th>Longitud</th>\n",
       "    </tr>\n",
       "  </thead>\n",
       "  <tbody>\n",
       "    <tr>\n",
       "      <th>0</th>\n",
       "      <td>195942.00</td>\n",
       "      <td>1157.170725</td>\n",
       "      <td>S</td>\n",
       "      <td>7652.57085</td>\n",
       "      <td>W</td>\n",
       "      <td>520.42</td>\n",
       "      <td>M</td>\n",
       "      <td>-11.952845</td>\n",
       "      <td>-76.87618</td>\n",
       "    </tr>\n",
       "    <tr>\n",
       "      <th>1</th>\n",
       "      <td>195942.17</td>\n",
       "      <td>1157.170725</td>\n",
       "      <td>S</td>\n",
       "      <td>7652.57085</td>\n",
       "      <td>W</td>\n",
       "      <td>520.42</td>\n",
       "      <td>M</td>\n",
       "      <td>-11.952845</td>\n",
       "      <td>-76.87618</td>\n",
       "    </tr>\n",
       "    <tr>\n",
       "      <th>2</th>\n",
       "      <td>200042.00</td>\n",
       "      <td>1157.170727</td>\n",
       "      <td>S</td>\n",
       "      <td>7652.57085</td>\n",
       "      <td>W</td>\n",
       "      <td>520.43</td>\n",
       "      <td>M</td>\n",
       "      <td>-11.952845</td>\n",
       "      <td>-76.87618</td>\n",
       "    </tr>\n",
       "  </tbody>\n",
       "</table>\n",
       "</div>"
      ],
      "text/plain": [
       "    UTC_time          LAT LAT(unit)         LON LON(unit)  HEIGHT  \\\n",
       "0  195942.00  1157.170725         S  7652.57085         W  520.42   \n",
       "1  195942.17  1157.170725         S  7652.57085         W  520.42   \n",
       "2  200042.00  1157.170727         S  7652.57085         W  520.43   \n",
       "\n",
       "  HEIGHT(unit)    Latitud  Longitud  \n",
       "0            M -11.952845 -76.87618  \n",
       "1            M -11.952845 -76.87618  \n",
       "2            M -11.952845 -76.87618  "
      ]
     },
     "execution_count": 58,
     "metadata": {},
     "output_type": "execute_result"
    }
   ],
   "source": [
    "df.head(3)"
   ]
  },
  {
   "cell_type": "code",
   "execution_count": 59,
   "metadata": {},
   "outputs": [],
   "source": [
    "df[\"Altura\"] = df[\"HEIGHT\"]"
   ]
  },
  {
   "cell_type": "code",
   "execution_count": 60,
   "metadata": {},
   "outputs": [
    {
     "data": {
      "text/html": [
       "<div>\n",
       "<style scoped>\n",
       "    .dataframe tbody tr th:only-of-type {\n",
       "        vertical-align: middle;\n",
       "    }\n",
       "\n",
       "    .dataframe tbody tr th {\n",
       "        vertical-align: top;\n",
       "    }\n",
       "\n",
       "    .dataframe thead th {\n",
       "        text-align: right;\n",
       "    }\n",
       "</style>\n",
       "<table border=\"1\" class=\"dataframe\">\n",
       "  <thead>\n",
       "    <tr style=\"text-align: right;\">\n",
       "      <th></th>\n",
       "      <th>UTC_time</th>\n",
       "      <th>LAT</th>\n",
       "      <th>LAT(unit)</th>\n",
       "      <th>LON</th>\n",
       "      <th>LON(unit)</th>\n",
       "      <th>HEIGHT</th>\n",
       "      <th>HEIGHT(unit)</th>\n",
       "      <th>Latitud</th>\n",
       "      <th>Longitud</th>\n",
       "      <th>Altura</th>\n",
       "    </tr>\n",
       "  </thead>\n",
       "  <tbody>\n",
       "    <tr>\n",
       "      <th>0</th>\n",
       "      <td>195942.00</td>\n",
       "      <td>1157.170725</td>\n",
       "      <td>S</td>\n",
       "      <td>7652.57085</td>\n",
       "      <td>W</td>\n",
       "      <td>520.42</td>\n",
       "      <td>M</td>\n",
       "      <td>-11.952845</td>\n",
       "      <td>-76.87618</td>\n",
       "      <td>520.42</td>\n",
       "    </tr>\n",
       "    <tr>\n",
       "      <th>1</th>\n",
       "      <td>195942.17</td>\n",
       "      <td>1157.170725</td>\n",
       "      <td>S</td>\n",
       "      <td>7652.57085</td>\n",
       "      <td>W</td>\n",
       "      <td>520.42</td>\n",
       "      <td>M</td>\n",
       "      <td>-11.952845</td>\n",
       "      <td>-76.87618</td>\n",
       "      <td>520.42</td>\n",
       "    </tr>\n",
       "    <tr>\n",
       "      <th>2</th>\n",
       "      <td>200042.00</td>\n",
       "      <td>1157.170727</td>\n",
       "      <td>S</td>\n",
       "      <td>7652.57085</td>\n",
       "      <td>W</td>\n",
       "      <td>520.43</td>\n",
       "      <td>M</td>\n",
       "      <td>-11.952845</td>\n",
       "      <td>-76.87618</td>\n",
       "      <td>520.43</td>\n",
       "    </tr>\n",
       "  </tbody>\n",
       "</table>\n",
       "</div>"
      ],
      "text/plain": [
       "    UTC_time          LAT LAT(unit)         LON LON(unit)  HEIGHT  \\\n",
       "0  195942.00  1157.170725         S  7652.57085         W  520.42   \n",
       "1  195942.17  1157.170725         S  7652.57085         W  520.42   \n",
       "2  200042.00  1157.170727         S  7652.57085         W  520.43   \n",
       "\n",
       "  HEIGHT(unit)    Latitud  Longitud  Altura  \n",
       "0            M -11.952845 -76.87618  520.42  \n",
       "1            M -11.952845 -76.87618  520.42  \n",
       "2            M -11.952845 -76.87618  520.43  "
      ]
     },
     "execution_count": 60,
     "metadata": {},
     "output_type": "execute_result"
    }
   ],
   "source": [
    "df.head(3)"
   ]
  },
  {
   "cell_type": "code",
   "execution_count": 61,
   "metadata": {},
   "outputs": [],
   "source": [
    "del df[\"LAT\"]\n",
    "del df[\"LAT(unit)\"]\n",
    "del df[\"LON\"]\n",
    "del df[\"LON(unit)\"]\n",
    "del df[\"HEIGHT\"]\n",
    "del df[\"HEIGHT(unit)\"]"
   ]
  },
  {
   "cell_type": "code",
   "execution_count": 62,
   "metadata": {},
   "outputs": [
    {
     "data": {
      "text/html": [
       "<div>\n",
       "<style scoped>\n",
       "    .dataframe tbody tr th:only-of-type {\n",
       "        vertical-align: middle;\n",
       "    }\n",
       "\n",
       "    .dataframe tbody tr th {\n",
       "        vertical-align: top;\n",
       "    }\n",
       "\n",
       "    .dataframe thead th {\n",
       "        text-align: right;\n",
       "    }\n",
       "</style>\n",
       "<table border=\"1\" class=\"dataframe\">\n",
       "  <thead>\n",
       "    <tr style=\"text-align: right;\">\n",
       "      <th></th>\n",
       "      <th>UTC_time</th>\n",
       "      <th>Latitud</th>\n",
       "      <th>Longitud</th>\n",
       "      <th>Altura</th>\n",
       "    </tr>\n",
       "  </thead>\n",
       "  <tbody>\n",
       "    <tr>\n",
       "      <th>0</th>\n",
       "      <td>195942.00</td>\n",
       "      <td>-11.952845</td>\n",
       "      <td>-76.87618</td>\n",
       "      <td>520.42</td>\n",
       "    </tr>\n",
       "    <tr>\n",
       "      <th>1</th>\n",
       "      <td>195942.17</td>\n",
       "      <td>-11.952845</td>\n",
       "      <td>-76.87618</td>\n",
       "      <td>520.42</td>\n",
       "    </tr>\n",
       "    <tr>\n",
       "      <th>2</th>\n",
       "      <td>200042.00</td>\n",
       "      <td>-11.952845</td>\n",
       "      <td>-76.87618</td>\n",
       "      <td>520.43</td>\n",
       "    </tr>\n",
       "  </tbody>\n",
       "</table>\n",
       "</div>"
      ],
      "text/plain": [
       "    UTC_time    Latitud  Longitud  Altura\n",
       "0  195942.00 -11.952845 -76.87618  520.42\n",
       "1  195942.17 -11.952845 -76.87618  520.42\n",
       "2  200042.00 -11.952845 -76.87618  520.43"
      ]
     },
     "execution_count": 62,
     "metadata": {},
     "output_type": "execute_result"
    }
   ],
   "source": [
    "df.head(3)"
   ]
  },
  {
   "cell_type": "code",
   "execution_count": null,
   "metadata": {},
   "outputs": [],
   "source": []
  },
  {
   "cell_type": "code",
   "execution_count": null,
   "metadata": {},
   "outputs": [],
   "source": []
  },
  {
   "cell_type": "code",
   "execution_count": 25,
   "metadata": {},
   "outputs": [
    {
     "data": {
      "text/plain": [
       "0     1157.170725\n",
       "1     1157.170725\n",
       "2     1157.170727\n",
       "3     1157.170729\n",
       "4      1157.17073\n",
       "5     1157.170732\n",
       "6     1157.170732\n",
       "7     1157.170734\n",
       "8     1157.170736\n",
       "9     1157.170738\n",
       "10     1157.17074\n",
       "11     1157.17074\n",
       "12    1157.170742\n",
       "13    1157.170742\n",
       "14    1157.170744\n",
       "15    1157.170747\n",
       "Name: LAT, dtype: object"
      ]
     },
     "execution_count": 25,
     "metadata": {},
     "output_type": "execute_result"
    }
   ],
   "source": [
    "df[\"LAT\"].round(6).astype(\"str\")"
   ]
  },
  {
   "cell_type": "code",
   "execution_count": 10,
   "metadata": {},
   "outputs": [
    {
     "data": {
      "text/html": [
       "<div>\n",
       "<style scoped>\n",
       "    .dataframe tbody tr th:only-of-type {\n",
       "        vertical-align: middle;\n",
       "    }\n",
       "\n",
       "    .dataframe tbody tr th {\n",
       "        vertical-align: top;\n",
       "    }\n",
       "\n",
       "    .dataframe thead th {\n",
       "        text-align: right;\n",
       "    }\n",
       "</style>\n",
       "<table border=\"1\" class=\"dataframe\">\n",
       "  <thead>\n",
       "    <tr style=\"text-align: right;\">\n",
       "      <th></th>\n",
       "      <th>UTC_time</th>\n",
       "      <th>day</th>\n",
       "      <th>month</th>\n",
       "      <th>year</th>\n",
       "    </tr>\n",
       "    <tr>\n",
       "      <th>0</th>\n",
       "      <th></th>\n",
       "      <th></th>\n",
       "      <th></th>\n",
       "      <th></th>\n",
       "    </tr>\n",
       "  </thead>\n",
       "  <tbody>\n",
       "    <tr>\n",
       "      <th>$GPZDA</th>\n",
       "      <td>195942.17</td>\n",
       "      <td>9.0</td>\n",
       "      <td>09</td>\n",
       "      <td>2020.0</td>\n",
       "    </tr>\n",
       "    <tr>\n",
       "      <th>$GPZDA</th>\n",
       "      <td>200042.00</td>\n",
       "      <td>9.0</td>\n",
       "      <td>09</td>\n",
       "      <td>2020.0</td>\n",
       "    </tr>\n",
       "  </tbody>\n",
       "</table>\n",
       "</div>"
      ],
      "text/plain": [
       "         UTC_time  day month    year\n",
       "0                                   \n",
       "$GPZDA  195942.17  9.0    09  2020.0\n",
       "$GPZDA  200042.00  9.0    09  2020.0"
      ]
     },
     "execution_count": 10,
     "metadata": {},
     "output_type": "execute_result"
    }
   ],
   "source": [
    "data_zda2.head(2) # Time + date"
   ]
  },
  {
   "cell_type": "code",
   "execution_count": null,
   "metadata": {},
   "outputs": [],
   "source": []
  },
  {
   "cell_type": "code",
   "execution_count": null,
   "metadata": {},
   "outputs": [],
   "source": []
  },
  {
   "cell_type": "code",
   "execution_count": null,
   "metadata": {},
   "outputs": [],
   "source": []
  },
  {
   "cell_type": "code",
   "execution_count": null,
   "metadata": {},
   "outputs": [],
   "source": []
  },
  {
   "cell_type": "code",
   "execution_count": null,
   "metadata": {},
   "outputs": [],
   "source": []
  },
  {
   "cell_type": "code",
   "execution_count": 11,
   "metadata": {},
   "outputs": [],
   "source": [
    " # Then, we obtain location info \n",
    "lat = data_gga2[\"LAT\"]\n",
    "lat2 = lat.values\n",
    "\n",
    "lat_unit = data_gga2[\"LAT(unit)\"]\n",
    "lat_unit2 = lat_unit.values\n",
    "\n",
    "lon = data_gga2[\"LON\"]\n",
    "lon2 = lon.values\n",
    "\n",
    "lon_unit = data_gga2[\"LON(unit)\"]\n",
    "lon_unit2 = lon_unit.values\n",
    "\n",
    "height = data_gga2[\"HEIGHT\"]\n",
    "height2 = height.values\n",
    "\n",
    "height_unit = data_gga2[\"HEIGHT(unit)\"]\n",
    "height_unit2 = height_unit.values\n",
    "\n",
    "latitud = []\n",
    "for i in range(len(lat2)):\n",
    "    dato = str(lat2[i].round(6)) # Round decimal value to 6 digits\n",
    "    dato2 = dato[:2]+\"\\xb0\"+dato[2:]+\"'\"+lat_unit2[i]\n",
    "    latitud.append(dato2)\n",
    "    \n",
    "longitud = []\n",
    "for i in range(len(lon2)):\n",
    "    dato = str(lon2[i].round(5))\n",
    "    dato2 = dato[:2]+\"\\xb0\"+dato[2:]+\"'\"+lon_unit2[i]\n",
    "    longitud.append(dato2)\n",
    "    \n",
    "altura = []\n",
    "for i in range(len(height2)):\n",
    "    dato = str(height2[i].round(2))+height_unit2[i]\n",
    "    altura.append(dato)\n"
   ]
  },
  {
   "cell_type": "code",
   "execution_count": 14,
   "metadata": {},
   "outputs": [
    {
     "data": {
      "text/plain": [
       "[\"11°57.170725'S\",\n",
       " \"11°57.170725'S\",\n",
       " \"11°57.170727'S\",\n",
       " \"11°57.170729'S\",\n",
       " \"11°57.17073'S\"]"
      ]
     },
     "execution_count": 14,
     "metadata": {},
     "output_type": "execute_result"
    }
   ],
   "source": [
    "latitud[:5]"
   ]
  },
  {
   "cell_type": "code",
   "execution_count": null,
   "metadata": {},
   "outputs": [],
   "source": []
  }
 ],
 "metadata": {
  "kernelspec": {
   "display_name": "Python 3",
   "language": "python",
   "name": "python3"
  },
  "language_info": {
   "codemirror_mode": {
    "name": "ipython",
    "version": 3
   },
   "file_extension": ".py",
   "mimetype": "text/x-python",
   "name": "python",
   "nbconvert_exporter": "python",
   "pygments_lexer": "ipython3",
   "version": "3.8.5"
  }
 },
 "nbformat": 4,
 "nbformat_minor": 4
}
