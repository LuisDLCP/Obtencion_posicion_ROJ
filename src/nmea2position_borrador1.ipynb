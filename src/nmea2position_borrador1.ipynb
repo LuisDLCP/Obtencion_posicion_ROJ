{
 "cells": [
  {
   "cell_type": "code",
   "execution_count": 1,
   "metadata": {},
   "outputs": [],
   "source": [
    "import pandas as pd\n",
    "import nmea2position as nmea\n",
    "\n",
    "data = nmea.read_nmea(\"ljic253u00.201\")"
   ]
  },
  {
   "cell_type": "code",
   "execution_count": 2,
   "metadata": {},
   "outputs": [],
   "source": [
    "# Select gga data\n",
    "data_gga = data.loc[\"$GPGGA\"] \n",
    "data_gga2 = data_gga[[1,2,3,4,5,9,10]] # Choose only the valid information\n",
    "data_gga2.columns = [\"UTC_time\", \"LAT\", \"LAT(unit)\", \"LON\", \"LON(unit)\", \"HEIGHT\", \"HEIGHT(unit)\"]\n",
    "# Select zda data\n",
    "data_zda = data.loc[\"$GPZDA\"] \n",
    "data_zda2 = data_zda[[1,2,3,4]]\n",
    "data_zda2.columns = [\"UTC_time\",\"day\",\"month\",\"year\"]"
   ]
  },
  {
   "cell_type": "code",
   "execution_count": 3,
   "metadata": {
    "scrolled": true
   },
   "outputs": [
    {
     "data": {
      "text/html": [
       "<div>\n",
       "<style scoped>\n",
       "    .dataframe tbody tr th:only-of-type {\n",
       "        vertical-align: middle;\n",
       "    }\n",
       "\n",
       "    .dataframe tbody tr th {\n",
       "        vertical-align: top;\n",
       "    }\n",
       "\n",
       "    .dataframe thead th {\n",
       "        text-align: right;\n",
       "    }\n",
       "</style>\n",
       "<table border=\"1\" class=\"dataframe\">\n",
       "  <thead>\n",
       "    <tr style=\"text-align: right;\">\n",
       "      <th></th>\n",
       "      <th>UTC_time</th>\n",
       "      <th>LAT</th>\n",
       "      <th>LAT(unit)</th>\n",
       "      <th>LON</th>\n",
       "      <th>LON(unit)</th>\n",
       "      <th>HEIGHT</th>\n",
       "      <th>HEIGHT(unit)</th>\n",
       "    </tr>\n",
       "    <tr>\n",
       "      <th>0</th>\n",
       "      <th></th>\n",
       "      <th></th>\n",
       "      <th></th>\n",
       "      <th></th>\n",
       "      <th></th>\n",
       "      <th></th>\n",
       "      <th></th>\n",
       "    </tr>\n",
       "  </thead>\n",
       "  <tbody>\n",
       "    <tr>\n",
       "      <th>$GPGGA</th>\n",
       "      <td>195942.00</td>\n",
       "      <td>1157.170725</td>\n",
       "      <td>S</td>\n",
       "      <td>7652.57085</td>\n",
       "      <td>W</td>\n",
       "      <td>520.42</td>\n",
       "      <td>M</td>\n",
       "    </tr>\n",
       "    <tr>\n",
       "      <th>$GPGGA</th>\n",
       "      <td>195942.17</td>\n",
       "      <td>1157.170725</td>\n",
       "      <td>S</td>\n",
       "      <td>7652.57085</td>\n",
       "      <td>W</td>\n",
       "      <td>520.42</td>\n",
       "      <td>M</td>\n",
       "    </tr>\n",
       "  </tbody>\n",
       "</table>\n",
       "</div>"
      ],
      "text/plain": [
       "         UTC_time          LAT LAT(unit)         LON LON(unit)  HEIGHT  \\\n",
       "0                                                                        \n",
       "$GPGGA  195942.00  1157.170725         S  7652.57085         W  520.42   \n",
       "$GPGGA  195942.17  1157.170725         S  7652.57085         W  520.42   \n",
       "\n",
       "       HEIGHT(unit)  \n",
       "0                    \n",
       "$GPGGA            M  \n",
       "$GPGGA            M  "
      ]
     },
     "execution_count": 3,
     "metadata": {},
     "output_type": "execute_result"
    }
   ],
   "source": [
    "data_gga2.head(2) # Location + time "
   ]
  },
  {
   "cell_type": "code",
   "execution_count": 75,
   "metadata": {},
   "outputs": [],
   "source": [
    "var = data_gga2.copy()"
   ]
  },
  {
   "cell_type": "code",
   "execution_count": 82,
   "metadata": {
    "scrolled": true
   },
   "outputs": [
    {
     "data": {
      "text/html": [
       "<div>\n",
       "<style scoped>\n",
       "    .dataframe tbody tr th:only-of-type {\n",
       "        vertical-align: middle;\n",
       "    }\n",
       "\n",
       "    .dataframe tbody tr th {\n",
       "        vertical-align: top;\n",
       "    }\n",
       "\n",
       "    .dataframe thead th {\n",
       "        text-align: right;\n",
       "    }\n",
       "</style>\n",
       "<table border=\"1\" class=\"dataframe\">\n",
       "  <thead>\n",
       "    <tr style=\"text-align: right;\">\n",
       "      <th></th>\n",
       "      <th>LON</th>\n",
       "      <th>LAT</th>\n",
       "      <th>UTC_time</th>\n",
       "    </tr>\n",
       "    <tr>\n",
       "      <th>0</th>\n",
       "      <th></th>\n",
       "      <th></th>\n",
       "      <th></th>\n",
       "    </tr>\n",
       "  </thead>\n",
       "  <tbody>\n",
       "    <tr>\n",
       "      <th>$GPGGA</th>\n",
       "      <td>7652.57085</td>\n",
       "      <td>1157.170725</td>\n",
       "      <td>195942.00</td>\n",
       "    </tr>\n",
       "    <tr>\n",
       "      <th>$GPGGA</th>\n",
       "      <td>7652.57085</td>\n",
       "      <td>1157.170725</td>\n",
       "      <td>195942.17</td>\n",
       "    </tr>\n",
       "    <tr>\n",
       "      <th>$GPGGA</th>\n",
       "      <td>7652.57085</td>\n",
       "      <td>1157.170727</td>\n",
       "      <td>200042.00</td>\n",
       "    </tr>\n",
       "  </tbody>\n",
       "</table>\n",
       "</div>"
      ],
      "text/plain": [
       "               LON          LAT   UTC_time\n",
       "0                                         \n",
       "$GPGGA  7652.57085  1157.170725  195942.00\n",
       "$GPGGA  7652.57085  1157.170725  195942.17\n",
       "$GPGGA  7652.57085  1157.170727  200042.00"
      ]
     },
     "execution_count": 82,
     "metadata": {},
     "output_type": "execute_result"
    }
   ],
   "source": [
    "var = var[[\"LON\",\"LAT\",\"UTC_time\"]]\n",
    "var.head(3)"
   ]
  },
  {
   "cell_type": "code",
   "execution_count": 83,
   "metadata": {},
   "outputs": [],
   "source": [
    "var[\"ind\"] = 0"
   ]
  },
  {
   "cell_type": "code",
   "execution_count": 84,
   "metadata": {},
   "outputs": [
    {
     "data": {
      "text/html": [
       "<div>\n",
       "<style scoped>\n",
       "    .dataframe tbody tr th:only-of-type {\n",
       "        vertical-align: middle;\n",
       "    }\n",
       "\n",
       "    .dataframe tbody tr th {\n",
       "        vertical-align: top;\n",
       "    }\n",
       "\n",
       "    .dataframe thead th {\n",
       "        text-align: right;\n",
       "    }\n",
       "</style>\n",
       "<table border=\"1\" class=\"dataframe\">\n",
       "  <thead>\n",
       "    <tr style=\"text-align: right;\">\n",
       "      <th></th>\n",
       "      <th>LON</th>\n",
       "      <th>LAT</th>\n",
       "      <th>UTC_time</th>\n",
       "      <th>ind</th>\n",
       "    </tr>\n",
       "    <tr>\n",
       "      <th>0</th>\n",
       "      <th></th>\n",
       "      <th></th>\n",
       "      <th></th>\n",
       "      <th></th>\n",
       "    </tr>\n",
       "  </thead>\n",
       "  <tbody>\n",
       "    <tr>\n",
       "      <th>$GPGGA</th>\n",
       "      <td>7652.57085</td>\n",
       "      <td>1157.170725</td>\n",
       "      <td>195942.00</td>\n",
       "      <td>0</td>\n",
       "    </tr>\n",
       "    <tr>\n",
       "      <th>$GPGGA</th>\n",
       "      <td>7652.57085</td>\n",
       "      <td>1157.170725</td>\n",
       "      <td>195942.17</td>\n",
       "      <td>0</td>\n",
       "    </tr>\n",
       "    <tr>\n",
       "      <th>$GPGGA</th>\n",
       "      <td>7652.57085</td>\n",
       "      <td>1157.170727</td>\n",
       "      <td>200042.00</td>\n",
       "      <td>0</td>\n",
       "    </tr>\n",
       "    <tr>\n",
       "      <th>$GPGGA</th>\n",
       "      <td>7652.57085</td>\n",
       "      <td>1157.170729</td>\n",
       "      <td>200142.00</td>\n",
       "      <td>0</td>\n",
       "    </tr>\n",
       "    <tr>\n",
       "      <th>$GPGGA</th>\n",
       "      <td>7652.57085</td>\n",
       "      <td>1157.170730</td>\n",
       "      <td>200242.00</td>\n",
       "      <td>0</td>\n",
       "    </tr>\n",
       "  </tbody>\n",
       "</table>\n",
       "</div>"
      ],
      "text/plain": [
       "               LON          LAT   UTC_time  ind\n",
       "0                                              \n",
       "$GPGGA  7652.57085  1157.170725  195942.00    0\n",
       "$GPGGA  7652.57085  1157.170725  195942.17    0\n",
       "$GPGGA  7652.57085  1157.170727  200042.00    0\n",
       "$GPGGA  7652.57085  1157.170729  200142.00    0\n",
       "$GPGGA  7652.57085  1157.170730  200242.00    0"
      ]
     },
     "execution_count": 84,
     "metadata": {},
     "output_type": "execute_result"
    }
   ],
   "source": [
    "var.head()"
   ]
  },
  {
   "cell_type": "code",
   "execution_count": 81,
   "metadata": {},
   "outputs": [
    {
     "data": {
      "text/html": [
       "<div>\n",
       "<style scoped>\n",
       "    .dataframe tbody tr th:only-of-type {\n",
       "        vertical-align: middle;\n",
       "    }\n",
       "\n",
       "    .dataframe tbody tr th {\n",
       "        vertical-align: top;\n",
       "    }\n",
       "\n",
       "    .dataframe thead th {\n",
       "        text-align: right;\n",
       "    }\n",
       "</style>\n",
       "<table border=\"1\" class=\"dataframe\">\n",
       "  <thead>\n",
       "    <tr style=\"text-align: right;\">\n",
       "      <th></th>\n",
       "      <th>LON</th>\n",
       "      <th>LAT</th>\n",
       "      <th>UTC_time</th>\n",
       "    </tr>\n",
       "    <tr>\n",
       "      <th>0</th>\n",
       "      <th></th>\n",
       "      <th></th>\n",
       "      <th></th>\n",
       "    </tr>\n",
       "  </thead>\n",
       "  <tbody>\n",
       "    <tr>\n",
       "      <th>$GPGGA</th>\n",
       "      <td>7652.57085</td>\n",
       "      <td>1157.170725</td>\n",
       "      <td>195942.00</td>\n",
       "    </tr>\n",
       "    <tr>\n",
       "      <th>$GPGGA</th>\n",
       "      <td>7652.57085</td>\n",
       "      <td>1157.170725</td>\n",
       "      <td>195942.17</td>\n",
       "    </tr>\n",
       "    <tr>\n",
       "      <th>$GPGGA</th>\n",
       "      <td>7652.57085</td>\n",
       "      <td>1157.170727</td>\n",
       "      <td>200042.00</td>\n",
       "    </tr>\n",
       "    <tr>\n",
       "      <th>$GPGGA</th>\n",
       "      <td>7652.57085</td>\n",
       "      <td>1157.170729</td>\n",
       "      <td>200142.00</td>\n",
       "    </tr>\n",
       "    <tr>\n",
       "      <th>$GPGGA</th>\n",
       "      <td>7652.57085</td>\n",
       "      <td>1157.170730</td>\n",
       "      <td>200242.00</td>\n",
       "    </tr>\n",
       "    <tr>\n",
       "      <th>$GPGGA</th>\n",
       "      <td>7652.57086</td>\n",
       "      <td>1157.170732</td>\n",
       "      <td>200342.00</td>\n",
       "    </tr>\n",
       "    <tr>\n",
       "      <th>$GPGGA</th>\n",
       "      <td>7652.57086</td>\n",
       "      <td>1157.170732</td>\n",
       "      <td>200442.00</td>\n",
       "    </tr>\n",
       "    <tr>\n",
       "      <th>$GPGGA</th>\n",
       "      <td>7652.57086</td>\n",
       "      <td>1157.170734</td>\n",
       "      <td>200542.00</td>\n",
       "    </tr>\n",
       "    <tr>\n",
       "      <th>$GPGGA</th>\n",
       "      <td>7652.57086</td>\n",
       "      <td>1157.170736</td>\n",
       "      <td>200642.00</td>\n",
       "    </tr>\n",
       "    <tr>\n",
       "      <th>$GPGGA</th>\n",
       "      <td>7652.57086</td>\n",
       "      <td>1157.170738</td>\n",
       "      <td>200742.00</td>\n",
       "    </tr>\n",
       "    <tr>\n",
       "      <th>$GPGGA</th>\n",
       "      <td>7652.57087</td>\n",
       "      <td>1157.170740</td>\n",
       "      <td>200842.00</td>\n",
       "    </tr>\n",
       "    <tr>\n",
       "      <th>$GPGGA</th>\n",
       "      <td>7652.57087</td>\n",
       "      <td>1157.170740</td>\n",
       "      <td>200942.00</td>\n",
       "    </tr>\n",
       "    <tr>\n",
       "      <th>$GPGGA</th>\n",
       "      <td>7652.57087</td>\n",
       "      <td>1157.170742</td>\n",
       "      <td>201042.00</td>\n",
       "    </tr>\n",
       "    <tr>\n",
       "      <th>$GPGGA</th>\n",
       "      <td>7652.57087</td>\n",
       "      <td>1157.170742</td>\n",
       "      <td>201142.00</td>\n",
       "    </tr>\n",
       "    <tr>\n",
       "      <th>$GPGGA</th>\n",
       "      <td>7652.57087</td>\n",
       "      <td>1157.170744</td>\n",
       "      <td>201242.00</td>\n",
       "    </tr>\n",
       "    <tr>\n",
       "      <th>$GPGGA</th>\n",
       "      <td>7652.57087</td>\n",
       "      <td>1157.170747</td>\n",
       "      <td>201342.00</td>\n",
       "    </tr>\n",
       "  </tbody>\n",
       "</table>\n",
       "</div>"
      ],
      "text/plain": [
       "               LON          LAT   UTC_time\n",
       "0                                         \n",
       "$GPGGA  7652.57085  1157.170725  195942.00\n",
       "$GPGGA  7652.57085  1157.170725  195942.17\n",
       "$GPGGA  7652.57085  1157.170727  200042.00\n",
       "$GPGGA  7652.57085  1157.170729  200142.00\n",
       "$GPGGA  7652.57085  1157.170730  200242.00\n",
       "$GPGGA  7652.57086  1157.170732  200342.00\n",
       "$GPGGA  7652.57086  1157.170732  200442.00\n",
       "$GPGGA  7652.57086  1157.170734  200542.00\n",
       "$GPGGA  7652.57086  1157.170736  200642.00\n",
       "$GPGGA  7652.57086  1157.170738  200742.00\n",
       "$GPGGA  7652.57087  1157.170740  200842.00\n",
       "$GPGGA  7652.57087  1157.170740  200942.00\n",
       "$GPGGA  7652.57087  1157.170742  201042.00\n",
       "$GPGGA  7652.57087  1157.170742  201142.00\n",
       "$GPGGA  7652.57087  1157.170744  201242.00\n",
       "$GPGGA  7652.57087  1157.170747  201342.00"
      ]
     },
     "execution_count": 81,
     "metadata": {},
     "output_type": "execute_result"
    }
   ],
   "source": [
    "var"
   ]
  },
  {
   "cell_type": "code",
   "execution_count": 4,
   "metadata": {
    "scrolled": true
   },
   "outputs": [
    {
     "data": {
      "text/html": [
       "<div>\n",
       "<style scoped>\n",
       "    .dataframe tbody tr th:only-of-type {\n",
       "        vertical-align: middle;\n",
       "    }\n",
       "\n",
       "    .dataframe tbody tr th {\n",
       "        vertical-align: top;\n",
       "    }\n",
       "\n",
       "    .dataframe thead th {\n",
       "        text-align: right;\n",
       "    }\n",
       "</style>\n",
       "<table border=\"1\" class=\"dataframe\">\n",
       "  <thead>\n",
       "    <tr style=\"text-align: right;\">\n",
       "      <th></th>\n",
       "      <th>UTC_time</th>\n",
       "      <th>LAT</th>\n",
       "      <th>LAT(unit)</th>\n",
       "      <th>LON</th>\n",
       "      <th>LON(unit)</th>\n",
       "      <th>HEIGHT</th>\n",
       "      <th>HEIGHT(unit)</th>\n",
       "    </tr>\n",
       "    <tr>\n",
       "      <th>0</th>\n",
       "      <th></th>\n",
       "      <th></th>\n",
       "      <th></th>\n",
       "      <th></th>\n",
       "      <th></th>\n",
       "      <th></th>\n",
       "      <th></th>\n",
       "    </tr>\n",
       "  </thead>\n",
       "  <tbody>\n",
       "    <tr>\n",
       "      <th>$GPGGA</th>\n",
       "      <td>195942.00</td>\n",
       "      <td>1157.170725</td>\n",
       "      <td>S</td>\n",
       "      <td>7652.57085</td>\n",
       "      <td>W</td>\n",
       "      <td>520.42</td>\n",
       "      <td>M</td>\n",
       "    </tr>\n",
       "    <tr>\n",
       "      <th>$GPGGA</th>\n",
       "      <td>195942.17</td>\n",
       "      <td>1157.170725</td>\n",
       "      <td>S</td>\n",
       "      <td>7652.57085</td>\n",
       "      <td>W</td>\n",
       "      <td>520.42</td>\n",
       "      <td>M</td>\n",
       "    </tr>\n",
       "  </tbody>\n",
       "</table>\n",
       "</div>"
      ],
      "text/plain": [
       "         UTC_time          LAT LAT(unit)         LON LON(unit)  HEIGHT  \\\n",
       "0                                                                        \n",
       "$GPGGA  195942.00  1157.170725         S  7652.57085         W  520.42   \n",
       "$GPGGA  195942.17  1157.170725         S  7652.57085         W  520.42   \n",
       "\n",
       "       HEIGHT(unit)  \n",
       "0                    \n",
       "$GPGGA            M  \n",
       "$GPGGA            M  "
      ]
     },
     "execution_count": 4,
     "metadata": {},
     "output_type": "execute_result"
    }
   ],
   "source": [
    "df = data_gga2.copy()\n",
    "df.head(2)"
   ]
  },
  {
   "cell_type": "code",
   "execution_count": 5,
   "metadata": {},
   "outputs": [],
   "source": [
    "df.reset_index(drop=True, inplace=True)"
   ]
  },
  {
   "cell_type": "code",
   "execution_count": 6,
   "metadata": {},
   "outputs": [
    {
     "data": {
      "text/html": [
       "<div>\n",
       "<style scoped>\n",
       "    .dataframe tbody tr th:only-of-type {\n",
       "        vertical-align: middle;\n",
       "    }\n",
       "\n",
       "    .dataframe tbody tr th {\n",
       "        vertical-align: top;\n",
       "    }\n",
       "\n",
       "    .dataframe thead th {\n",
       "        text-align: right;\n",
       "    }\n",
       "</style>\n",
       "<table border=\"1\" class=\"dataframe\">\n",
       "  <thead>\n",
       "    <tr style=\"text-align: right;\">\n",
       "      <th></th>\n",
       "      <th>UTC_time</th>\n",
       "      <th>LAT</th>\n",
       "      <th>LAT(unit)</th>\n",
       "      <th>LON</th>\n",
       "      <th>LON(unit)</th>\n",
       "      <th>HEIGHT</th>\n",
       "      <th>HEIGHT(unit)</th>\n",
       "    </tr>\n",
       "  </thead>\n",
       "  <tbody>\n",
       "    <tr>\n",
       "      <th>0</th>\n",
       "      <td>195942.00</td>\n",
       "      <td>1157.170725</td>\n",
       "      <td>S</td>\n",
       "      <td>7652.57085</td>\n",
       "      <td>W</td>\n",
       "      <td>520.42</td>\n",
       "      <td>M</td>\n",
       "    </tr>\n",
       "    <tr>\n",
       "      <th>1</th>\n",
       "      <td>195942.17</td>\n",
       "      <td>1157.170725</td>\n",
       "      <td>S</td>\n",
       "      <td>7652.57085</td>\n",
       "      <td>W</td>\n",
       "      <td>520.42</td>\n",
       "      <td>M</td>\n",
       "    </tr>\n",
       "  </tbody>\n",
       "</table>\n",
       "</div>"
      ],
      "text/plain": [
       "    UTC_time          LAT LAT(unit)         LON LON(unit)  HEIGHT HEIGHT(unit)\n",
       "0  195942.00  1157.170725         S  7652.57085         W  520.42            M\n",
       "1  195942.17  1157.170725         S  7652.57085         W  520.42            M"
      ]
     },
     "execution_count": 6,
     "metadata": {},
     "output_type": "execute_result"
    }
   ],
   "source": [
    "df.head(2)"
   ]
  },
  {
   "cell_type": "code",
   "execution_count": 7,
   "metadata": {},
   "outputs": [],
   "source": [
    "def convert_decimalDegree(value):\n",
    "    integer = int(value/100)\n",
    "    decimal = (value - integer*100)/60\n",
    "    \n",
    "    final_value = integer+decimal\n",
    "    \n",
    "    return final_value"
   ]
  },
  {
   "cell_type": "code",
   "execution_count": 9,
   "metadata": {},
   "outputs": [],
   "source": [
    "#df[\"LAT\"].apply(change_lat).round(6)"
   ]
  },
  {
   "cell_type": "code",
   "execution_count": null,
   "metadata": {},
   "outputs": [],
   "source": [
    "def coordinate_sign(coord):\n",
    "    if coord == \"S\" or coord == \"W\":\n",
    "        return -1\n",
    "    elif coord == \"N\" or coord == \"E\":\n",
    "        return +1\n",
    "    else:\n",
    "        return \"Error\""
   ]
  },
  {
   "cell_type": "code",
   "execution_count": null,
   "metadata": {},
   "outputs": [],
   "source": [
    "df[\"LAT(unit)\"].apply(lat_sign)"
   ]
  },
  {
   "cell_type": "code",
   "execution_count": null,
   "metadata": {},
   "outputs": [],
   "source": [
    "df[\"Latitud\"] = df[\"LAT\"].apply(convert_decimalDegree).round(6) * df[\"LAT(unit)\"].apply(coordinate_sign)"
   ]
  },
  {
   "cell_type": "code",
   "execution_count": null,
   "metadata": {},
   "outputs": [],
   "source": [
    "df[\"Longitud\"] = df[\"LON\"].apply(convert_decimalDegree).round(5) * df[\"LON(unit)\"].apply(coordinate_sign)"
   ]
  },
  {
   "cell_type": "code",
   "execution_count": null,
   "metadata": {},
   "outputs": [],
   "source": [
    "df.head(3)"
   ]
  },
  {
   "cell_type": "code",
   "execution_count": null,
   "metadata": {},
   "outputs": [],
   "source": [
    "df[\"Altura\"] = df[\"HEIGHT\"]"
   ]
  },
  {
   "cell_type": "code",
   "execution_count": null,
   "metadata": {},
   "outputs": [],
   "source": [
    "df.head(3)"
   ]
  },
  {
   "cell_type": "code",
   "execution_count": null,
   "metadata": {},
   "outputs": [],
   "source": [
    "del df[\"LAT\"]\n",
    "del df[\"LAT(unit)\"]\n",
    "del df[\"LON\"]\n",
    "del df[\"LON(unit)\"]\n",
    "del df[\"HEIGHT\"]\n",
    "del df[\"HEIGHT(unit)\"]"
   ]
  },
  {
   "cell_type": "code",
   "execution_count": null,
   "metadata": {},
   "outputs": [],
   "source": []
  },
  {
   "cell_type": "code",
   "execution_count": 12,
   "metadata": {},
   "outputs": [
    {
     "data": {
      "text/html": [
       "<div>\n",
       "<style scoped>\n",
       "    .dataframe tbody tr th:only-of-type {\n",
       "        vertical-align: middle;\n",
       "    }\n",
       "\n",
       "    .dataframe tbody tr th {\n",
       "        vertical-align: top;\n",
       "    }\n",
       "\n",
       "    .dataframe thead th {\n",
       "        text-align: right;\n",
       "    }\n",
       "</style>\n",
       "<table border=\"1\" class=\"dataframe\">\n",
       "  <thead>\n",
       "    <tr style=\"text-align: right;\">\n",
       "      <th></th>\n",
       "      <th>UTC_time</th>\n",
       "      <th>day</th>\n",
       "      <th>month</th>\n",
       "      <th>year</th>\n",
       "    </tr>\n",
       "    <tr>\n",
       "      <th>0</th>\n",
       "      <th></th>\n",
       "      <th></th>\n",
       "      <th></th>\n",
       "      <th></th>\n",
       "    </tr>\n",
       "  </thead>\n",
       "  <tbody>\n",
       "    <tr>\n",
       "      <th>$GPZDA</th>\n",
       "      <td>195942.17</td>\n",
       "      <td>9.0</td>\n",
       "      <td>09</td>\n",
       "      <td>2020.0</td>\n",
       "    </tr>\n",
       "    <tr>\n",
       "      <th>$GPZDA</th>\n",
       "      <td>200042.00</td>\n",
       "      <td>9.0</td>\n",
       "      <td>09</td>\n",
       "      <td>2020.0</td>\n",
       "    </tr>\n",
       "  </tbody>\n",
       "</table>\n",
       "</div>"
      ],
      "text/plain": [
       "         UTC_time  day month    year\n",
       "0                                   \n",
       "$GPZDA  195942.17  9.0    09  2020.0\n",
       "$GPZDA  200042.00  9.0    09  2020.0"
      ]
     },
     "execution_count": 12,
     "metadata": {},
     "output_type": "execute_result"
    }
   ],
   "source": [
    "data_zda2.head(2) # Time + date"
   ]
  },
  {
   "cell_type": "code",
   "execution_count": 13,
   "metadata": {},
   "outputs": [],
   "source": [
    "date = data_zda2.copy()"
   ]
  },
  {
   "cell_type": "code",
   "execution_count": 18,
   "metadata": {},
   "outputs": [
    {
     "data": {
      "text/plain": [
       "0\n",
       "$GPZDA    195942\n",
       "$GPZDA    200042\n",
       "Name: UTC_time, dtype: object"
      ]
     },
     "execution_count": 18,
     "metadata": {},
     "output_type": "execute_result"
    }
   ],
   "source": [
    "date[\"UTC_time\"].astype(\"int\").astype(\"str\").head(2)"
   ]
  },
  {
   "cell_type": "code",
   "execution_count": 23,
   "metadata": {},
   "outputs": [
    {
     "data": {
      "text/plain": [
       "71982"
      ]
     },
     "execution_count": 23,
     "metadata": {},
     "output_type": "execute_result"
    }
   ],
   "source": [
    "def get_secondsDay(tiempo):\n",
    "    hour = int(tiempo[:2])\n",
    "    minute = int(tiempo[2:4])\n",
    "    seconds = int(tiempo[4:])\n",
    "    \n",
    "    total_seconds = seconds + minute*60 + hour*60*60\n",
    "    \n",
    "    return total_seconds\n",
    "\n",
    "get_secondsDay(\"195942\")"
   ]
  },
  {
   "cell_type": "code",
   "execution_count": 25,
   "metadata": {
    "collapsed": true
   },
   "outputs": [
    {
     "data": {
      "text/plain": [
       "0\n",
       "$GPZDA    71982\n",
       "$GPZDA    72042\n",
       "$GPZDA    72102\n",
       "$GPZDA    72162\n",
       "$GPZDA    72222\n",
       "$GPZDA    72282\n",
       "$GPZDA    72342\n",
       "$GPZDA    72402\n",
       "$GPZDA    72462\n",
       "$GPZDA    72522\n",
       "$GPZDA    72582\n",
       "$GPZDA    72642\n",
       "$GPZDA    72702\n",
       "$GPZDA    72762\n",
       "$GPZDA    72822\n",
       "$GPZDA    72882\n",
       "Name: UTC_time, dtype: int64"
      ]
     },
     "execution_count": 25,
     "metadata": {},
     "output_type": "execute_result"
    }
   ],
   "source": [
    "date[\"UTC_time\"].astype(\"int\").astype(\"str\").apply(get_secondsDay)"
   ]
  },
  {
   "cell_type": "code",
   "execution_count": 26,
   "metadata": {},
   "outputs": [],
   "source": [
    "import datetime"
   ]
  },
  {
   "cell_type": "code",
   "execution_count": null,
   "metadata": {},
   "outputs": [],
   "source": [
    "date = datetime.datetime.strptime(\"\")"
   ]
  },
  {
   "cell_type": "code",
   "execution_count": 41,
   "metadata": {
    "collapsed": true
   },
   "outputs": [
    {
     "name": "stderr",
     "output_type": "stream",
     "text": [
      "<ipython-input-41-38fb82534c7a>:3: SettingWithCopyWarning: \n",
      "A value is trying to be set on a copy of a slice from a DataFrame.\n",
      "Try using .loc[row_indexer,col_indexer] = value instead\n",
      "\n",
      "See the caveats in the documentation: https://pandas.pydata.org/pandas-docs/stable/user_guide/indexing.html#returning-a-view-versus-a-copy\n",
      "  data_zda2[i] = data_zda2[i].astype(\"int\").astype(\"str\")\n"
     ]
    }
   ],
   "source": [
    "colum_names = list(data_zda2.columns)[1:]\n",
    "for i in colum_names:\n",
    "    data_zda2[i] = data_zda2[i].astype(\"int\").astype(\"str\")"
   ]
  },
  {
   "cell_type": "code",
   "execution_count": 43,
   "metadata": {},
   "outputs": [
    {
     "data": {
      "text/html": [
       "<div>\n",
       "<style scoped>\n",
       "    .dataframe tbody tr th:only-of-type {\n",
       "        vertical-align: middle;\n",
       "    }\n",
       "\n",
       "    .dataframe tbody tr th {\n",
       "        vertical-align: top;\n",
       "    }\n",
       "\n",
       "    .dataframe thead th {\n",
       "        text-align: right;\n",
       "    }\n",
       "</style>\n",
       "<table border=\"1\" class=\"dataframe\">\n",
       "  <thead>\n",
       "    <tr style=\"text-align: right;\">\n",
       "      <th></th>\n",
       "      <th>UTC_time</th>\n",
       "      <th>day</th>\n",
       "      <th>month</th>\n",
       "      <th>year</th>\n",
       "    </tr>\n",
       "    <tr>\n",
       "      <th>0</th>\n",
       "      <th></th>\n",
       "      <th></th>\n",
       "      <th></th>\n",
       "      <th></th>\n",
       "    </tr>\n",
       "  </thead>\n",
       "  <tbody>\n",
       "    <tr>\n",
       "      <th>$GPZDA</th>\n",
       "      <td>195942.17</td>\n",
       "      <td>9</td>\n",
       "      <td>9</td>\n",
       "      <td>2020</td>\n",
       "    </tr>\n",
       "    <tr>\n",
       "      <th>$GPZDA</th>\n",
       "      <td>200042.00</td>\n",
       "      <td>9</td>\n",
       "      <td>9</td>\n",
       "      <td>2020</td>\n",
       "    </tr>\n",
       "  </tbody>\n",
       "</table>\n",
       "</div>"
      ],
      "text/plain": [
       "         UTC_time day month  year\n",
       "0                                \n",
       "$GPZDA  195942.17   9     9  2020\n",
       "$GPZDA  200042.00   9     9  2020"
      ]
     },
     "execution_count": 43,
     "metadata": {},
     "output_type": "execute_result"
    }
   ],
   "source": [
    "data_zda2.head(2)"
   ]
  },
  {
   "cell_type": "code",
   "execution_count": 69,
   "metadata": {},
   "outputs": [],
   "source": [
    "def change_date(row):\n",
    "    day = row[1]\n",
    "    month = row[2]\n",
    "    year = row[3]\n",
    "    date = year + \"/\" + month + \"/\" + day\n",
    "    \n",
    "    date1 = datetime.datetime.strptime(date,\"%Y/%m/%d\")\n",
    "    date2 = datetime.datetime.strftime(date1,\"%y/%j\")\n",
    "    \n",
    "    YEAR = date2[:2] # i.e. \"20/253\"\n",
    "    DOY = date2[3:]\n",
    "    \n",
    "    return YEAR, DOY\n",
    "    "
   ]
  },
  {
   "cell_type": "code",
   "execution_count": 57,
   "metadata": {},
   "outputs": [
    {
     "data": {
      "text/plain": [
       "0\n",
       "$GPZDA    2020/9/9\n",
       "$GPZDA    2020/9/9\n",
       "$GPZDA    2020/9/9\n",
       "$GPZDA    2020/9/9\n",
       "$GPZDA    2020/9/9\n",
       "dtype: object"
      ]
     },
     "execution_count": 57,
     "metadata": {},
     "output_type": "execute_result"
    }
   ],
   "source": [
    "data_zda2.apply(change_date,axis=1).head()"
   ]
  },
  {
   "cell_type": "code",
   "execution_count": 61,
   "metadata": {},
   "outputs": [
    {
     "data": {
      "text/plain": [
       "0\n",
       "$GPZDA   2020-09-09\n",
       "$GPZDA   2020-09-09\n",
       "$GPZDA   2020-09-09\n",
       "$GPZDA   2020-09-09\n",
       "$GPZDA   2020-09-09\n",
       "dtype: datetime64[ns]"
      ]
     },
     "execution_count": 61,
     "metadata": {},
     "output_type": "execute_result"
    }
   ],
   "source": [
    "data_zda2.apply(change_date,axis=1).head()"
   ]
  },
  {
   "cell_type": "code",
   "execution_count": 63,
   "metadata": {},
   "outputs": [
    {
     "data": {
      "text/plain": [
       "0\n",
       "$GPZDA    20/253\n",
       "$GPZDA    20/253\n",
       "$GPZDA    20/253\n",
       "$GPZDA    20/253\n",
       "$GPZDA    20/253\n",
       "dtype: object"
      ]
     },
     "execution_count": 63,
     "metadata": {},
     "output_type": "execute_result"
    }
   ],
   "source": [
    "data_zda2.apply(change_date,axis=1).head()"
   ]
  },
  {
   "cell_type": "code",
   "execution_count": 70,
   "metadata": {},
   "outputs": [
    {
     "data": {
      "text/plain": [
       "0\n",
       "$GPZDA    253\n",
       "$GPZDA    253\n",
       "$GPZDA    253\n",
       "$GPZDA    253\n",
       "$GPZDA    253\n",
       "dtype: object"
      ]
     },
     "execution_count": 70,
     "metadata": {},
     "output_type": "execute_result"
    }
   ],
   "source": [
    "data_zda2.apply(change_date,axis=1).str.get(1).head()"
   ]
  },
  {
   "cell_type": "code",
   "execution_count": 88,
   "metadata": {},
   "outputs": [],
   "source": [
    "data_zda2.reset_index(drop=True, inplace=True)"
   ]
  },
  {
   "cell_type": "code",
   "execution_count": 89,
   "metadata": {
    "scrolled": true
   },
   "outputs": [
    {
     "name": "stderr",
     "output_type": "stream",
     "text": [
      "<ipython-input-89-a31fedc5c7a1>:1: SettingWithCopyWarning: \n",
      "A value is trying to be set on a copy of a slice from a DataFrame.\n",
      "Try using .loc[row_indexer,col_indexer] = value instead\n",
      "\n",
      "See the caveats in the documentation: https://pandas.pydata.org/pandas-docs/stable/user_guide/indexing.html#returning-a-view-versus-a-copy\n",
      "  data_gga2[\"SOD\"] = data_zda2.apply(change_date,axis=1).str.get(0).astype(\"int\")\n"
     ]
    }
   ],
   "source": [
    "data_gga2[\"SOD\"] = data_zda2.apply(change_date,axis=1).str.get(0).astype(\"int\")"
   ]
  },
  {
   "cell_type": "code",
   "execution_count": 90,
   "metadata": {},
   "outputs": [
    {
     "data": {
      "text/html": [
       "<div>\n",
       "<style scoped>\n",
       "    .dataframe tbody tr th:only-of-type {\n",
       "        vertical-align: middle;\n",
       "    }\n",
       "\n",
       "    .dataframe tbody tr th {\n",
       "        vertical-align: top;\n",
       "    }\n",
       "\n",
       "    .dataframe thead th {\n",
       "        text-align: right;\n",
       "    }\n",
       "</style>\n",
       "<table border=\"1\" class=\"dataframe\">\n",
       "  <thead>\n",
       "    <tr style=\"text-align: right;\">\n",
       "      <th></th>\n",
       "      <th>UTC_time</th>\n",
       "      <th>LAT</th>\n",
       "      <th>LAT(unit)</th>\n",
       "      <th>LON</th>\n",
       "      <th>LON(unit)</th>\n",
       "      <th>HEIGHT</th>\n",
       "      <th>HEIGHT(unit)</th>\n",
       "      <th>SOD</th>\n",
       "    </tr>\n",
       "  </thead>\n",
       "  <tbody>\n",
       "    <tr>\n",
       "      <th>0</th>\n",
       "      <td>195942.00</td>\n",
       "      <td>1157.170725</td>\n",
       "      <td>S</td>\n",
       "      <td>7652.57085</td>\n",
       "      <td>W</td>\n",
       "      <td>520.42</td>\n",
       "      <td>M</td>\n",
       "      <td>20</td>\n",
       "    </tr>\n",
       "    <tr>\n",
       "      <th>1</th>\n",
       "      <td>195942.17</td>\n",
       "      <td>1157.170725</td>\n",
       "      <td>S</td>\n",
       "      <td>7652.57085</td>\n",
       "      <td>W</td>\n",
       "      <td>520.42</td>\n",
       "      <td>M</td>\n",
       "      <td>20</td>\n",
       "    </tr>\n",
       "    <tr>\n",
       "      <th>2</th>\n",
       "      <td>200042.00</td>\n",
       "      <td>1157.170727</td>\n",
       "      <td>S</td>\n",
       "      <td>7652.57085</td>\n",
       "      <td>W</td>\n",
       "      <td>520.43</td>\n",
       "      <td>M</td>\n",
       "      <td>20</td>\n",
       "    </tr>\n",
       "  </tbody>\n",
       "</table>\n",
       "</div>"
      ],
      "text/plain": [
       "    UTC_time          LAT LAT(unit)         LON LON(unit)  HEIGHT  \\\n",
       "0  195942.00  1157.170725         S  7652.57085         W  520.42   \n",
       "1  195942.17  1157.170725         S  7652.57085         W  520.42   \n",
       "2  200042.00  1157.170727         S  7652.57085         W  520.43   \n",
       "\n",
       "  HEIGHT(unit)  SOD  \n",
       "0            M   20  \n",
       "1            M   20  \n",
       "2            M   20  "
      ]
     },
     "execution_count": 90,
     "metadata": {},
     "output_type": "execute_result"
    }
   ],
   "source": [
    "data_gga2.head(3)"
   ]
  },
  {
   "cell_type": "code",
   "execution_count": null,
   "metadata": {},
   "outputs": [],
   "source": [
    " # Then, we obtain location info \n",
    "lat = data_gga2[\"LAT\"]\n",
    "lat2 = lat.values\n",
    "\n",
    "lat_unit = data_gga2[\"LAT(unit)\"]\n",
    "lat_unit2 = lat_unit.values\n",
    "\n",
    "lon = data_gga2[\"LON\"]\n",
    "lon2 = lon.values\n",
    "\n",
    "lon_unit = data_gga2[\"LON(unit)\"]\n",
    "lon_unit2 = lon_unit.values\n",
    "\n",
    "height = data_gga2[\"HEIGHT\"]\n",
    "height2 = height.values\n",
    "\n",
    "height_unit = data_gga2[\"HEIGHT(unit)\"]\n",
    "height_unit2 = height_unit.values\n",
    "\n",
    "latitud = []\n",
    "for i in range(len(lat2)):\n",
    "    dato = str(lat2[i].round(6)) # Round decimal value to 6 digits\n",
    "    dato2 = dato[:2]+\"\\xb0\"+dato[2:]+\"'\"+lat_unit2[i]\n",
    "    latitud.append(dato2)\n",
    "    \n",
    "longitud = []\n",
    "for i in range(len(lon2)):\n",
    "    dato = str(lon2[i].round(5))\n",
    "    dato2 = dato[:2]+\"\\xb0\"+dato[2:]+\"'\"+lon_unit2[i]\n",
    "    longitud.append(dato2)\n",
    "    \n",
    "altura = []\n",
    "for i in range(len(height2)):\n",
    "    dato = str(height2[i].round(2))+height_unit2[i]\n",
    "    altura.append(dato)\n"
   ]
  },
  {
   "cell_type": "code",
   "execution_count": null,
   "metadata": {},
   "outputs": [],
   "source": [
    "latitud[:5]"
   ]
  },
  {
   "cell_type": "code",
   "execution_count": null,
   "metadata": {},
   "outputs": [],
   "source": []
  }
 ],
 "metadata": {
  "kernelspec": {
   "display_name": "Python 3",
   "language": "python",
   "name": "python3"
  },
  "language_info": {
   "codemirror_mode": {
    "name": "ipython",
    "version": 3
   },
   "file_extension": ".py",
   "mimetype": "text/x-python",
   "name": "python",
   "nbconvert_exporter": "python",
   "pygments_lexer": "ipython3",
   "version": "3.8.5"
  }
 },
 "nbformat": 4,
 "nbformat_minor": 4
}
